{
 "cells": [
  {
   "cell_type": "markdown",
   "metadata": {},
   "source": [
    "# Welcome techie farmer!\n",
    "\n",
    "## Learning to use tmux"
   ]
  },
  {
   "cell_type": "markdown",
   "metadata": {},
   "source": [
    "### which operating system?  \n",
    "\n",
    "I am using Linux(Ubuntu 16.04 xenial) however any linux distro should work"
   ]
  },
  {
   "cell_type": "markdown",
   "metadata": {},
   "source": [
    "### why we need tmux\n",
    "\n",
    "Working with ROS is not fun when you have to open several terminal(shell) to run several ROS nodes including a master node.\n",
    "\n",
    "Once your aha moments are over (running ROS nodes and going through tutorials!) and you pressed `ctrl+c` enough to kill running nodes(moving that turtle around!), now it's time to think about saving some extra time and key strokes.\n",
    "\n",
    "drum rolls...  let community presesnt you a terminal multiplexer, in short, tmux (huh...)\n"
   ]
  },
  {
   "cell_type": "markdown",
   "metadata": {},
   "source": [
    "### why we should learn tmux\n",
    "\n",
    "tmux in short from the creator themselves; \n",
    "\n",
    "> tmux is a terminal multiplexer: it enables a number of terminals to be created,\n",
    "  accessed, and controlled from a single screen. tmux may be detached from a\n",
    "  screen and continue running in the background, then later reattached.\n",
    "\n",
    "don't worry we will simplify what it means- \n",
    "\n",
    "at a core, there is a **session**.  session can be attached, detached and attached back again (don't worry, keep reading), then comes **window**, multiple windows can be created within a session, finally comes **pane**, which is sort of split views of a window.  \n",
    "\n",
    "oh cool! now here is a fact, each of this session or a window or a pane is running independently as a terminal instance...aha, i already love it."
   ]
  },
  {
   "cell_type": "markdown",
   "metadata": {},
   "source": [
    "### install tmux\n",
    "\n",
    "check if tumx is already installed on your machine (your desktop or laptop or notebook or whatever)\n",
    "\n",
    "open up a terminal window by entering `ctrl+alt+t` then type\n",
    "\n",
    "`tmux -V`   \n",
    "\n",
    "if it is not installed, install tmux\n",
    "\n",
    "`sudo apt-get install tmux`\n",
    "\n",
    "check version again\n",
    "\n",
    "`tmux -V`"
   ]
  },
  {
   "cell_type": "code",
   "execution_count": 24,
   "metadata": {},
   "outputs": [
    {
     "name": "stdout",
     "output_type": "stream",
     "text": [
      "tmux 2.1\n"
     ]
    }
   ],
   "source": [
    "%%bash\n",
    "tmux -V"
   ]
  },
  {
   "cell_type": "markdown",
   "metadata": {},
   "source": [
    "### update themepackage... some cool effects, totally optional \n",
    "\n",
    "`git clone https://github.com/jimeh/tmux-themepack.git ~/.tmux-themepack`\n",
    "\n",
    "source with tmux source-file command\n",
    "for exmaple - \n",
    "\n",
    "```\n",
    "tmux  source-file \"${HOME}/.tmux-themepack/powerline/block/green.tmuxtheme\"\n",
    "\n",
    "```"
   ]
  },
  {
   "cell_type": "markdown",
   "metadata": {},
   "source": [
    "### play time, learning is fun\n",
    "\n",
    "this is hands-on tutorial, so you can fire up a new session (`ctrl + alt + t`) and follow along;"
   ]
  },
  {
   "cell_type": "markdown",
   "metadata": {},
   "source": [
    "#### session\n",
    "\n",
    "create a brand new tmux session\n",
    "\n",
    "`tmux`\n",
    "\n",
    "you should see window similar to follwoing;\n",
    "\n",
    "(tmux by default create a session name '0' and this point you are attached to this newly created session)\n",
    "\n",
    "\n",
    "<img style=\"float: left;\" src=\"./tmux_1.png\"/>"
   ]
  },
  {
   "cell_type": "markdown",
   "metadata": {},
   "source": [
    "or \n",
    "\n",
    "create a tmux session with a name\n",
    "\n",
    "`tmux new -s session_name`\n",
    "\n",
    "(please refer to the image to see that session name 'roscore' created)\n",
    "\n",
    "\n",
    "<img style=\"float: left;\" src=\"./tmux_2.png\"/>"
   ]
  },
  {
   "cell_type": "markdown",
   "metadata": {},
   "source": [
    "let's kill the tmux (tmux server)\n",
    "\n",
    "`tmux kill-session -t session-name`\n",
    "\n",
    "or \n",
    "\n",
    "to kill all tmux server\n",
    "\n",
    "`tmux kill-server`\n",
    "\n",
    "or\n",
    "\n",
    "if you have only one session open, just type \n",
    "\n",
    "`exit`\n",
    "\n",
    "\n",
    "<img style=\"float: left;\" src=\"./tmux_3.png\"/>"
   ]
  },
  {
   "cell_type": "markdown",
   "metadata": {},
   "source": [
    "#### see if you can do it\n",
    "\n",
    "create tmux session with a session name and kill tmux server from running\n"
   ]
  },
  {
   "cell_type": "markdown",
   "metadata": {},
   "source": [
    "Before we continue on, let me introduce a magic command prefix in tmux - \n",
    "\n",
    "`ctrl + b`\n",
    "\n",
    "(type `ctrl + b` in tmux session to access tmux commands, will learn few useful so it is easy to remember)\n",
    "\n",
    "command prompt - \n",
    "\n",
    "`ctrl + b` and `:` \n",
    "\n",
    "you can crate new session from here, just type\n",
    "\n",
    "`ctrl + b` and `:` then 'new'\n",
    "\n",
    "\n",
    "<img style=\"float: left;\" src=\"./tmux_4.png\"/>"
   ]
  },
  {
   "cell_type": "markdown",
   "metadata": {},
   "source": [
    "how to detach from a session\n",
    "\n",
    "type `ctrl + b` then 'd'"
   ]
  },
  {
   "cell_type": "markdown",
   "metadata": {},
   "source": [
    "if you have multiple sessions open and you exit out, so how to attach to a session again?\n",
    "\n",
    "it is really simple, first, list sessions by typing \n",
    "\n",
    "`tmux ls`\n",
    "\n",
    "and then attach to a session (pick one you want!)\n",
    "\n",
    "`tmux attach-session -t session-name`\n",
    "\n",
    "or save some keystrokes, \n",
    "\n",
    "`tmux a -t session-name`\n",
    "\n",
    "\n",
    "<img style=\"float: left;\" src=\"./tmux_5.png\"/>"
   ]
  },
  {
   "cell_type": "markdown",
   "metadata": {},
   "source": [
    "#### windows\n",
    "\n",
    "now that we learned all useful things about session, let's learn windows(did i say it loud!!)\n",
    "\n",
    "create window within a session (create one or create many)\n",
    "\n",
    "`ctrl + b` then 'c'\n",
    "\n",
    "\n",
    "<img style=\"float: left;\" src=\"./tmux_6.png\"/>  "
   ]
  },
  {
   "cell_type": "markdown",
   "metadata": {},
   "source": [
    "windows and then select one(hoping windows)\n",
    "\n",
    "`ctrl + b` then 'w'\n",
    "\n",
    "\n",
    "<img style=\"float: left;\" src=\"./tmux_7.png\"/> "
   ]
  },
  {
   "cell_type": "markdown",
   "metadata": {},
   "source": [
    "kill window\n",
    "\n",
    "`ctrl + b` then '&'\n",
    "\n",
    "enter \"y\" at the command prompt to kill that window\n",
    "\n",
    "\n",
    "<img style=\"float: left;\" src=\"./tmux_8.png\"/>"
   ]
  },
  {
   "cell_type": "markdown",
   "metadata": {},
   "source": [
    "#### panes \n",
    "\n",
    "splitting window gives you panes, you can split window vertically or horizontally (suite your needs!)\n",
    "\n",
    "split window vertically\n",
    "\n",
    "`ctrl + b` then '%'  \n",
    "\n",
    "\n",
    "<img style=\"float: left;\" src=\"./tmux_9.png\"/>"
   ]
  },
  {
   "cell_type": "markdown",
   "metadata": {},
   "source": [
    "split window horizontally  \n",
    "\n",
    "`ctrl + b` then '\"'  \n",
    "\n",
    "\n",
    "<img style=\"float: left;\" src=\"./tmux_10.png\"/>"
   ]
  },
  {
   "cell_type": "markdown",
   "metadata": {},
   "source": [
    "kill pane (remember you always have more than one pane, since you split window to create a pane)\n",
    "\n",
    "`ctrl + b` then 'x'\n",
    "\n",
    "switch panes\n",
    "\n",
    "`ctrl + b` then 'use arrow keys'  (depending on which pane you need to switch to)\n",
    "\n",
    "size panes (shhh... secret command)\n",
    "\n",
    "`ctrl + b` (keep it pressed) then 'keep arrow key pressed'\n",
    "\n",
    "voila!!  there you go..."
   ]
  },
  {
   "cell_type": "markdown",
   "metadata": {},
   "source": [
    "### the cool\n",
    "\n",
    "if you work with remote server often (over ssh or similar) or working with SBC(single board computer) like Raspberry Pi or Beaglebone(pick your color!) or even Odroid, you will apprecite `tmux` way more than i can advocate, for exmaple, you are working on a SBC and you are connected to it but you lose connection over network issue or for any other reasons, so goodbye and goodluck situation!  Fortunately, you have have opened a tmux session, so in case of lost connection, once you ssh back in, you can again attach to same session, yes, tumx server is still running and it will keep running untill you kill it...literally. \n",
    "\n",
    "it allows you to not only manage sessions or window but also tasks in a clean way, that is, when switching from one ROS node/s to other or contextually speking, launching several nodes with launch file and detaching session which you just want see run in the background without cluttering your screen or brain."
   ]
  },
  {
   "cell_type": "markdown",
   "metadata": {},
   "source": [
    "### bonus items\n",
    "\n",
    "big clock\n",
    "\n",
    "`ctrl + b` then 't'\n",
    "\n",
    "\n",
    "<img style=\"float: left;\" src=\"./tmux_11.png\"/>"
   ]
  },
  {
   "cell_type": "markdown",
   "metadata": {},
   "source": [
    "list shortcuts\n",
    "\n",
    "`ctrl + b` and '?'"
   ]
  },
  {
   "cell_type": "markdown",
   "metadata": {},
   "source": [
    "### zen moment\n",
    "\n",
    "i believe that one of the frequently asked questions about tumx is how do i know when i need to create a session or a window or a pane?  So let me shed some light on it, tmux is like reading a short book, where session is a chapter, window is a high level topic and pane is like a subtopic;  this analogy gives you an idea about what to use and when to use.  I often use it in this context and i love using it this way..."
   ]
  },
  {
   "cell_type": "markdown",
   "metadata": {},
   "source": [
    "congratulations!  you have just learned tmux."
   ]
  }
 ],
 "metadata": {
  "kernelspec": {
   "display_name": "Python 2",
   "language": "python",
   "name": "python2"
  },
  "language_info": {
   "codemirror_mode": {
    "name": "ipython",
    "version": 2
   },
   "file_extension": ".py",
   "mimetype": "text/x-python",
   "name": "python",
   "nbconvert_exporter": "python",
   "pygments_lexer": "ipython2",
   "version": "2.7.15"
  }
 },
 "nbformat": 4,
 "nbformat_minor": 2
}
