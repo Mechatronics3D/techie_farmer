{
 "cells": [
  {
   "cell_type": "markdown",
   "metadata": {},
   "source": [
    "# Techie Farmer Series\n",
    "\n",
    "## Create ROS package using catkin tools"
   ]
  },
  {
   "cell_type": "markdown",
   "metadata": {},
   "source": [
    "### Hands on tutorial, you should have following installed on your computer -\n",
    "\n",
    "- ubuntu 16.04 (xenial) - a linux based operating system on your desktop or laptop\n",
    "- ros kinetic - Robot Operating System installed \n",
    "- jupyter notebook or notebook viewer "
   ]
  },
  {
   "cell_type": "markdown",
   "metadata": {},
   "source": [
    "install catkin_tools and catkin\n",
    "\n",
    "`pip install catkin_tools`"
   ]
  },
  {
   "cell_type": "markdown",
   "metadata": {},
   "source": [
    "you `.bashrc` file is updated with source commands so that opening up a new terminal automatically loads environment and variables, this ensures that you `source` environment as soon as you open a new terminal `ctrl+alt+t`\n",
    "\n",
    "<img style=\"float: left;\" src=\"./ROS_bashrc_setup.png\">"
   ]
  },
  {
   "cell_type": "markdown",
   "metadata": {},
   "source": [
    "assuming that ros environment variables are setup,\n",
    "you can check with \n",
    "\n",
    "`env | grep ROS*`\n",
    "\n",
    "<img style=\"float: left;\" src=\"./ROS_env_var.png\">"
   ]
  },
  {
   "cell_type": "markdown",
   "metadata": {},
   "source": [
    "Let us take a look at few useful `catkin_tools` commands and how to use them, pl note that this is a new and evolved method of `catkin`.  It will not use `catking_make` command.  It is recommended to use this method when building a ros package"
   ]
  },
  {
   "cell_type": "markdown",
   "metadata": {},
   "source": [
    "### Step # 1\n",
    "#### make a new workspace and source space (directory) in your home directory\n",
    "`mkdir -p ~/catkin_ws/src`"
   ]
  },
  {
   "cell_type": "markdown",
   "metadata": {},
   "source": [
    "### Step # 2\n",
    "#### navigate to workspace root directory\n",
    "`cd ~/catkin_ws`\n"
   ]
  },
  {
   "cell_type": "markdown",
   "metadata": {},
   "source": [
    "**Tip**:  Hit `tab` key as frequently as you can to autocomplete lines at the terminal"
   ]
  },
  {
   "cell_type": "markdown",
   "metadata": {},
   "source": [
    "### Step # 3\n",
    "#### initialize it with a hidden marker file\n",
    "`catkin init`\n",
    "\n",
    "Pl note that - \n",
    "- you do not need to worrry about this hidden marker file, it is just a technical step so that catkin can do its job behind the scene.\n",
    "- It is one time operation if you are not creating your workspace often.\n"
   ]
  },
  {
   "cell_type": "markdown",
   "metadata": {},
   "source": [
    "### Step # 4\n",
    "navigate to source space (directory)\n",
    "\n",
    "`cd ~/catkin_ws/src`"
   ]
  },
  {
   "cell_type": "markdown",
   "metadata": {},
   "source": [
    "### Step # 5 \n",
    "it is now time to create package\n",
    "\n",
    "`catkin create pkg pkg_a --catkin-deps rospy roscpp std_msgs`\n",
    "\n",
    "pl note that this is sort of boiler plate statement, you can use it every time you create a new package"
   ]
  },
  {
   "cell_type": "markdown",
   "metadata": {},
   "source": [
    "### Step # 6\n",
    "lets check what we created, list all packages in the workspace\n",
    "\n",
    "`catkin list`\n",
    "\n",
    "<img style=\"float: left;\" src=\"./catkin_list.png\"/>"
   ]
  },
  {
   "cell_type": "markdown",
   "metadata": {},
   "source": [
    "### Step # 7\n",
    "now it's time to build package in the workspace\n",
    "\n",
    "`catkin build my_package`\n",
    "\n",
    "if you want to build all packages in the workspace, simply run \n",
    "\n",
    "`catkin build`"
   ]
  },
  {
   "cell_type": "markdown",
   "metadata": {},
   "source": [
    "### Step # 8 \n",
    "load the wrokspace's environment\n",
    "\n",
    "`source ~/catkin_ws/devel/steup.bash`\n",
    "\n",
    "or open up a new terminal would `source` it automatically"
   ]
  },
  {
   "cell_type": "markdown",
   "metadata": {},
   "source": [
    "### Step # 9 (optional)\n",
    "lets check current catkin configuration\n",
    "\n",
    "`catkin config`\n",
    "\n",
    "<img style=\"float: left;\" src=\"./catkin_config.png\"/>"
   ]
  },
  {
   "cell_type": "markdown",
   "metadata": {},
   "source": [
    "### Step # 10\n",
    "now it's time to check workspace's local directory structure\n",
    "\n",
    "first navigate to workspace root\n",
    "\n",
    "`cd ~/catkin_ws`\n",
    "\n",
    "now show prebuild directory tree\n",
    "\n",
    "`tree -aL 2`  \n",
    "\n",
    "<img src=\"./tree_structure.png\"/>"
   ]
  },
  {
   "cell_type": "markdown",
   "metadata": {},
   "source": [
    "### Step # 11\n",
    "finally let's learn how to clean all build products, ** catkin_tools ** shines here\n",
    "\n",
    "`catkin clean`\n",
    "\n",
    "or just clean a single package\n",
    "\n",
    "`catkin clean my_package`\n",
    "\n",
    "Also you can delete build directories for packages which have been disabled or removed, keeps your build clean\n",
    "\n",
    "`catkin clean --orphans`"
   ]
  },
  {
   "cell_type": "markdown",
   "metadata": {},
   "source": [
    "#### Congratulations!  you now know a coolest trick of building ROS package... yeah, its turtle all the way!"
   ]
  }
 ],
 "metadata": {
  "kernelspec": {
   "display_name": "Python 2",
   "language": "python",
   "name": "python2"
  },
  "language_info": {
   "codemirror_mode": {
    "name": "ipython",
    "version": 2
   },
   "file_extension": ".py",
   "mimetype": "text/x-python",
   "name": "python",
   "nbconvert_exporter": "python",
   "pygments_lexer": "ipython2",
   "version": "2.7.14"
  }
 },
 "nbformat": 4,
 "nbformat_minor": 2
}
